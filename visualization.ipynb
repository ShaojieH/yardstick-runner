{
 "cells": [
  {
   "cell_type": "code",
   "execution_count": null,
   "metadata": {},
   "outputs": [],
   "source": [
    "import pandas as pd\n",
    "import numpy as np\n",
    "import seaborn as sns"
   ]
  },
  {
   "cell_type": "code",
   "execution_count": null,
   "metadata": {},
   "outputs": [],
   "source": [
    "data1 = pd.read_csv('./data/1/log.txt', usecols= ['timestamp', 'mspt'], sep='\\t', header=0)\n",
    "data2 = pd.read_csv('./data/2/log.txt', usecols= ['timestamp', 'mspt'], sep='\\t', header=0)\n",
    "\n",
    "ys1 = pd.read_csv('./data/1/yardstick-metrics.log', sep='\\t', names=[\"timestamp\", \"b\", \"playerNum\"])\n",
    "max_timestamp_1 = ys1['timestamp'][(ys1['playerNum'] > 299).idxmax()] // 1000\n",
    "ys2 = pd.read_csv('./data/2/yardstick-metrics.log', sep='\\t', names=[\"timestamp\", \"b\", \"playerNum\"])\n",
    "max_timestamp_2 = ys2['timestamp'][(ys2['playerNum'] > 299).idxmax()] // 1000\n",
    "\n",
    "data1_ = data1[(data1['timestamp'] // 1000 >= ys1.iat[0, 0] // 1000) & (data1['timestamp'] // 1000 <= max_timestamp_1 if max_timestamp_1 != 0 else True)]\n",
    "data1_.index = np.arange(1, len(data1_) + 1)\n",
    "data1_ = data1_.drop(columns=['timestamp'])\n",
    "\n",
    "data2_ = data2[(data2['timestamp'] // 1000 >= ys2.iat[0, 0] // 1000) & (data2['timestamp'] // 1000 <= max_timestamp_2 if max_timestamp_2 != 0 else True)]\n",
    "data2_.index = np.arange(1, len(data2_) + 1)\n",
    "data2_ = data2_.drop(columns=['timestamp'])"
   ]
  },
  {
   "cell_type": "code",
   "execution_count": null,
   "metadata": {},
   "outputs": [],
   "source": [
    "sns.lineplot(data1_, palette=['r'])\n",
    "sns.lineplot(data2_, palette=['b'])\n",
    "\n",
    "# original plot:\n",
    "# sns.lineplot(data1.drop(columns=['timestamp']), palette=['g'])\n",
    "# sns.lineplot(data2.drop(columns=['timestamp']), palette=['y'])"
   ]
  }
 ],
 "metadata": {
  "kernelspec": {
   "display_name": "Python 3.9.2 64-bit",
   "language": "python",
   "name": "python3"
  },
  "language_info": {
   "codemirror_mode": {
    "name": "ipython",
    "version": 3
   },
   "file_extension": ".py",
   "mimetype": "text/x-python",
   "name": "python",
   "nbconvert_exporter": "python",
   "pygments_lexer": "ipython3",
   "version": "3.9.2"
  },
  "orig_nbformat": 4,
  "vscode": {
   "interpreter": {
    "hash": "916dbcbb3f70747c44a77c7bcd40155683ae19c65e1c03b4aa3499c5328201f1"
   }
  }
 },
 "nbformat": 4,
 "nbformat_minor": 2
}
