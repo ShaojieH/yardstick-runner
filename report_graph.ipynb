{
 "cells": [
  {
   "cell_type": "code",
   "execution_count": null,
   "metadata": {},
   "outputs": [],
   "source": [
    "import pandas as pd\n",
    "import numpy as np\n",
    "import seaborn as sns\n",
    "from scipy.signal import savgol_filter\n",
    "import matplotlib.pyplot as plt"
   ]
  },
  {
   "cell_type": "code",
   "execution_count": null,
   "metadata": {},
   "outputs": [],
   "source": [
    "def get_graph_data(log_file, ys_file, label, metric='proc.cpu_percent', min_bot=0, max_bot=300, resample=1, smooth_function=lambda x: x, bot_peak=300):\n",
    "    data =  pd.read_csv(log_file, usecols= ['timestamp', metric], sep='\\t', header=0)\n",
    "    ys = pd.read_csv(ys_file, sep='\\t', names=[\"timestamp\", \"b\", \"playerNum\"])\n",
    "    max_timestamp = ys['timestamp'][(ys['playerNum'] > bot_peak-1).idxmax()] // 1000\n",
    "\n",
    "    data_ = data[(data['timestamp'] // 1000 >= ys.iat[0, 0] // 1000) & (data['timestamp'] // 1000 <= max_timestamp if max_timestamp != 0 else True)]\n",
    "    data_.index = np.arange(1, len(data_) + 1)\n",
    "    data_ = data_.drop(columns=['timestamp'])\n",
    "    data_.columns= [label]\n",
    "\n",
    "    data_ = data_[min_bot:max_bot]\n",
    "\n",
    "    data_ = data_.apply(smooth_function)\n",
    "\n",
    "    data_ = data_.iloc[::resample, :]\n",
    "\n",
    "    return data_\n"
   ]
  },
  {
   "cell_type": "code",
   "execution_count": null,
   "metadata": {},
   "outputs": [],
   "source": [
    "def get_spigot_cpu_graph():\n",
    "    metric = 'proc.cpu_percent'\n",
    "    min_bot=25\n",
    "    max_bot=115\n",
    "    resample=5\n",
    "    smooth_function=lambda x: savgol_filter(x,15,2)\n",
    "\n",
    "\n",
    "    data1 = get_graph_data('./data/1/log.txt', './data/1/yardstick-metrics.log', 'Yardstick Walk', metric, min_bot, max_bot, resample, smooth_function)\n",
    "    data2 = get_graph_data('./data/2/log.txt', './data/2/yardstick-metrics.log', 'Samovar', metric, min_bot, max_bot, resample)\n",
    "    data3 = get_graph_data('./data/3/log.txt', './data/3/yardstick-metrics.log', 'Agent-based', metric, min_bot, max_bot, resample)\n",
    "\n",
    "    sns.lineplot(data1, palette=['r'],marker=\"o\")\n",
    "    sns.lineplot(data2, palette=['b'],marker=\"^\")\n",
    "    plot = sns.lineplot(data3, palette=['g'],marker=\"D\")\n",
    "    plot.set(xlabel='Number of Bots', ylabel='CPU Utilization(%)')\n",
    "    plot.get_figure().savefig(\"./report/spigot_cpu.png\")\n",
    "    plt.figure()"
   ]
  },
  {
   "cell_type": "code",
   "execution_count": null,
   "metadata": {},
   "outputs": [],
   "source": [
    "def get_spigot_tps_graph():\n",
    "    metric = 'mspt'\n",
    "    min_bot=250\n",
    "    max_bot=265\n",
    "    resample=1\n",
    "\n",
    "    data1 = get_graph_data('./data/1/log.txt', './data/1/yardstick-metrics.log', 'Yardstick Walk', metric, min_bot, max_bot, resample)\n",
    "    data2 = get_graph_data('./data/2/log.txt', './data/2/yardstick-metrics.log', 'Samovar', metric, min_bot, max_bot, resample)\n",
    "    data3 = get_graph_data('./data/3/log.txt', './data/3/yardstick-metrics.log', 'Agent-based', metric, min_bot, max_bot, resample)\n",
    "\n",
    "    sns.lineplot(data1, palette=['r'],marker=\"o\")\n",
    "    sns.lineplot(data2, palette=['b'],marker=\"^\")\n",
    "    plot = sns.lineplot(data3, palette=['g'],marker=\"D\")\n",
    "    plot.set(xlabel='Number of Bots', ylabel='TPS')\n",
    "    plot.get_figure().savefig(\"./report/spigot_tps.png\")\n",
    "    plt.figure()"
   ]
  },
  {
   "cell_type": "code",
   "execution_count": null,
   "metadata": {},
   "outputs": [],
   "source": [
    "def get_opencraft_cpu_graph():\n",
    "    metric = 'proc.cpu_percent'\n",
    "    min_bot=0\n",
    "    max_bot=100\n",
    "    resample=5\n",
    "    smooth_function=lambda x: savgol_filter(x,10,1)\n",
    "    bot_peak=200\n",
    "\n",
    "    data1 = get_graph_data('./data/4/log.txt', './data/4/yardstick-metrics.log', 'Yardstick Walk', metric, min_bot, max_bot, resample, smooth_function, bot_peak)\n",
    "    data2 = get_graph_data('./data/5/log.txt', './data/5/yardstick-metrics.log', 'Samovar', metric, min_bot, max_bot, resample, smooth_function, bot_peak)\n",
    "    data3 = get_graph_data('./data/6/log.txt', './data/6/yardstick-metrics.log', 'Agent-based', metric, min_bot, max_bot, resample, smooth_function, bot_peak)\n",
    "\n",
    "    sns.lineplot(data1, palette=['r'],marker=\"o\")\n",
    "    sns.lineplot(data2, palette=['b'],marker=\"^\")\n",
    "    plot = sns.lineplot(data3, palette=['g'],marker=\"D\")\n",
    "    plot.set(xlabel='Number of Bots', ylabel='CPU Utilization(%)')\n",
    "    plot.get_figure().savefig(\"./report/opencraft_cpu.png\")\n",
    "    plt.figure()"
   ]
  },
  {
   "cell_type": "code",
   "execution_count": null,
   "metadata": {},
   "outputs": [],
   "source": [
    "def get_samovar_cpu_graph():\n",
    "    metric = 'proc.cpu_percent'\n",
    "    min_bot=0\n",
    "    max_bot=250\n",
    "    resample=5\n",
    "    smooth_function=lambda x: savgol_filter(x,5,1)\n",
    "\n",
    "    data1 = get_graph_data('./data/2/log.txt', './data/2/yardstick-metrics.log', 'Spigot', metric, min_bot, max_bot, resample, smooth_function)\n",
    "    data2 = get_graph_data('./data/5/log.txt', './data/5/yardstick-metrics.log', 'Opencraft', metric, min_bot, max_bot, resample, smooth_function)\n",
    "\n",
    "    sns.lineplot(data1, palette=['r'],marker=\"o\")\n",
    "    plot = sns.lineplot(data2, palette=['b'],marker=\"^\")\n",
    "    plot.set(xlabel='Number of Bots', ylabel='CPU Utilization(%)')\n",
    "    plot.get_figure().savefig(\"./report/samovar_cpu.png\")\n",
    "    plt.figure()"
   ]
  },
  {
   "cell_type": "code",
   "execution_count": null,
   "metadata": {},
   "outputs": [],
   "source": [
    "get_spigot_cpu_graph()\n",
    "get_spigot_tps_graph()\n",
    "get_opencraft_cpu_graph()\n",
    "get_samovar_cpu_graph()"
   ]
  }
 ],
 "metadata": {
  "kernelspec": {
   "display_name": "Python 3",
   "language": "python",
   "name": "python3"
  },
  "language_info": {
   "codemirror_mode": {
    "name": "ipython",
    "version": 3
   },
   "file_extension": ".py",
   "mimetype": "text/x-python",
   "name": "python",
   "nbconvert_exporter": "python",
   "pygments_lexer": "ipython3",
   "version": "3.10.1"
  },
  "orig_nbformat": 4,
  "vscode": {
   "interpreter": {
    "hash": "681df256ffa8c12ad8c5285cc28d24f3b46e17693cd98f35fe8010f371a2339c"
   }
  }
 },
 "nbformat": 4,
 "nbformat_minor": 2
}
